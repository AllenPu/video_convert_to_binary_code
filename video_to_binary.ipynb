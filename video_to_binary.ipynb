{
 "cells": [
  {
   "cell_type": "code",
   "execution_count": 1,
   "metadata": {},
   "outputs": [
    {
     "data": {
      "text/plain": [
       "'/Users/ruizhipu/Desktop/conda code'"
      ]
     },
     "execution_count": 1,
     "metadata": {},
     "output_type": "execute_result"
    }
   ],
   "source": [
    "import os\n",
    "import math\n",
    "import sys\n",
    "import csv\n",
    "os.getcwd()"
   ]
  },
  {
   "cell_type": "code",
   "execution_count": 2,
   "metadata": {},
   "outputs": [],
   "source": [
    "def access_bit(data, num):\n",
    "    base = int(num // 8)\n",
    "    shift = int(num % 8)\n",
    "    return (data[base] & (1<<shift)) >> shift"
   ]
  },
  {
   "cell_type": "code",
   "execution_count": 3,
   "metadata": {},
   "outputs": [],
   "source": [
    "#first parameter is: the byte size of the filw\n",
    "#second parameter is: the number of bits in of each batch, such as : 10000 , batch size is 5\n",
    "def get_n_batch(size_of_file, batch_bits):\n",
    "    length = len(str(size_of_file))\n",
    "    if length > 4:\n",
    "        n_batch = int(size_of_file/pow(10,batch_bits))\n",
    "        left_over = size_of_file - n_batch*pow(10,batch_bits)\n",
    "    else:\n",
    "        n_batch = 1\n",
    "        left_over = size_of_file\n",
    "    return (n_batch, left_over)"
   ]
  },
  {
   "cell_type": "code",
   "execution_count": 4,
   "metadata": {},
   "outputs": [
    {
     "name": "stdout",
     "output_type": "stream",
     "text": [
      "0b1011011\n",
      "1011011\n",
      "01011011\n"
     ]
    }
   ],
   "source": [
    "#import sys\n",
    "#int.from_bytes(b'\\x11', byteorder=sys.byteorder)  # => 17\n",
    "sa = bin(int.from_bytes(b'[', byteorder=sys.byteorder))\n",
    "print(sa)\n",
    "pure_sa = sa[2:]\n",
    "print(pure_sa)\n",
    "res = pure_sa.zfill(8)\n",
    "print(res)\n",
    "#reverse_sa = pure_sa[::-1]\n",
    "#reverse_sa.append(0)\n",
    "#print(pure_sa)\n",
    "#print(reverse_sa)\n",
    "#print(len(sa))\n",
    "#print(type(reverse_sa))"
   ]
  },
  {
   "cell_type": "code",
   "execution_count": 24,
   "metadata": {},
   "outputs": [
    {
     "name": "stdout",
     "output_type": "stream",
     "text": [
      "The  0 th 100000 batch\n",
      "The  1 th 100000 batch\n",
      "The  2 th 100000 batch\n",
      "The  3 th 100000 batch\n",
      "The  4 th 100000 batch\n",
      "The  5 th 100000 batch\n",
      "The  6 th 100000 batch\n",
      "The  7 th 100000 batch\n"
     ]
    }
   ],
   "source": [
    "started = 0\n",
    "hash_val = 0\n",
    "\n",
    "url = '/Users/ruizhipu/Desktop/video/5.mp4'\n",
    "url_des = '/Users/ruizhipu/Desktop/conda code/mp4_5.csv'\n",
    "\n",
    "with open(url, \"rb\") as file:\n",
    "    with open(url_des, \"w\") as csv_file:\n",
    "        writer = csv.writer(csv_file, delimiter=',')\n",
    "    # print(url)\n",
    "    #total size of the video file\n",
    "        size_of_file = os.path.getsize(url)\n",
    "    #print(size_of_file)\n",
    "    #get the number of batches\n",
    "    #get the left number\n",
    "        n_batch, left_over = get_n_batch(size_of_file, 5)\n",
    "        bit_size = 10\n",
    "        for i in range(n_batch):\n",
    "            for j in range(100000):\n",
    "                byte = file.read(1)\n",
    "                sample = bin(int.from_bytes(byte, byteorder=sys.byteorder))\n",
    "                length_of_byte = len(sample)\n",
    "                pure_sa = sample[2:]\n",
    "                if length_of_byte < bit_size:\n",
    "                    res = pure_sa.zfill(8)\n",
    "                else:\n",
    "                    res = pure_sa\n",
    "                writer.writerow([res])\n",
    "                #print(type(res))\n",
    "                #print(res)\n",
    "                #list_new = []\n",
    "                #list_new.append(res)\n",
    "                #encoded_str = res.encode(encoding='UTF-8',errors='strict')\n",
    "                #list_new.append(res)\n",
    "            print(\"The \", i, \"th 100000 batch\")\n",
    "            #for data in list_new:\n",
    "                #print(type(data))\n",
    "                #writer.writerow(data)\n",
    "        #print(\"finishing\")\n",
    "                \n",
    "            #if length_of_byte > maximum:\n",
    "                #maximum = length_of_byte\n",
    "    \n",
    "    #byte_last = file.read(219)\n",
    "    #print(byte)\n",
    "    #print(os.path.getsize(url))\n",
    "    #print(byte_first)\n",
    "    #print(byte_last)\n",
    "    #byte_10 = file.read(10) # read a byte (a single character in text)\n",
    "    #print(byte_10)\n",
    "    #sample = bin(int.from_bytes(b'\\x18', byteorder=sys.byteorder))\n",
    "    #print(sample)"
   ]
  },
  {
   "cell_type": "code",
   "execution_count": 162,
   "metadata": {},
   "outputs": [],
   "source": [
    "#s = \"0110100001101001\"\n",
    "#encoded_str = s.encode(encoding='UTF-8',errors='strict')\n",
    "#print(type(encoded_str))\n",
    "#print(encoded_str)"
   ]
  },
  {
   "cell_type": "code",
   "execution_count": 163,
   "metadata": {},
   "outputs": [],
   "source": [
    "#with open(url, \"rb\") as file:\n",
    "#    byte = file.read(20)\n",
    "#    print(byte)\n",
    "#    for i in range(10):\n",
    "#        for j in range(5):\n",
    "#            byte_10 = file.read(1)\n",
    "#            print(byte_10)"
   ]
  },
  {
   "cell_type": "code",
   "execution_count": 164,
   "metadata": {},
   "outputs": [
    {
     "name": "stdout",
     "output_type": "stream",
     "text": [
      "true\n"
     ]
    }
   ],
   "source": [
    "mystring = \"\"\n",
    "if not mystring:\n",
    "    print(\"true\")"
   ]
  },
  {
   "cell_type": "code",
   "execution_count": 165,
   "metadata": {},
   "outputs": [
    {
     "name": "stdout",
     "output_type": "stream",
     "text": [
      "7\n"
     ]
    }
   ],
   "source": [
    "size = 3402048\n",
    "print(len(str(size)))\n",
    "#print(len(int(size)))"
   ]
  },
  {
   "cell_type": "code",
   "execution_count": 166,
   "metadata": {},
   "outputs": [
    {
     "data": {
      "text/plain": [
       "2048"
      ]
     },
     "execution_count": 166,
     "metadata": {},
     "output_type": "execute_result"
    }
   ],
   "source": [
    "int(34092048/pow(10,4))\n",
    "34092048 - int(34092048/pow(10,4))*pow(10,4)"
   ]
  },
  {
   "cell_type": "code",
   "execution_count": 105,
   "metadata": {},
   "outputs": [
    {
     "data": {
      "text/plain": [
       "100000"
      ]
     },
     "execution_count": 105,
     "metadata": {},
     "output_type": "execute_result"
    }
   ],
   "source": [
    "pow(10,5)"
   ]
  },
  {
   "cell_type": "code",
   "execution_count": null,
   "metadata": {},
   "outputs": [],
   "source": []
  }
 ],
 "metadata": {
  "kernelspec": {
   "display_name": "Python 3",
   "language": "python",
   "name": "python3"
  },
  "language_info": {
   "codemirror_mode": {
    "name": "ipython",
    "version": 3
   },
   "file_extension": ".py",
   "mimetype": "text/x-python",
   "name": "python",
   "nbconvert_exporter": "python",
   "pygments_lexer": "ipython3",
   "version": "3.6.6"
  }
 },
 "nbformat": 4,
 "nbformat_minor": 2
}
